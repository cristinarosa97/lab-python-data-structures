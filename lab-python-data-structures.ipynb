{
 "cells": [
  {
   "cell_type": "markdown",
   "metadata": {
    "tags": []
   },
   "source": [
    "# Lab | Data Structures "
   ]
  },
  {
   "cell_type": "markdown",
   "metadata": {},
   "source": [
    "## Exercise: Managing Customer Orders\n",
    "\n",
    "As part of a business venture, you are starting an online store that sells various products. To ensure smooth operations, you need to develop a program that manages customer orders and inventory.\n",
    "\n",
    "Follow the steps below to complete the exercise:\n",
    "\n",
    "1. Define a list called `products` that contains the following items: \"t-shirt\", \"mug\", \"hat\", \"book\", \"keychain\".\n",
    "\n",
    "2. Create an empty dictionary called `inventory`.\n",
    "\n",
    "3. Ask the user to input the quantity of each product available in the inventory. Use the product names from the `products` list as keys in the `inventory` dictionary and assign the respective quantities as values.\n",
    "\n",
    "4. Create an empty set called `customer_orders`.\n",
    "\n",
    "5. Ask the user to input the name of three products that a customer wants to order (from those in the products list, meaning three products out of \"t-shirt\", \"mug\", \"hat\", \"book\" or \"keychain\". Add each product name to the `customer_orders` set.\n",
    "\n",
    "6. Print the products in the `customer_orders` set.\n",
    "\n",
    "7. Calculate the following order statistics:\n",
    "   - Total Products Ordered: The total number of products in the `customer_orders` set.\n",
    "   - Percentage of Products Ordered: The percentage of products ordered compared to the total available products.\n",
    "   \n",
    "   Store these statistics in a tuple called `order_status`.\n",
    "\n",
    "8. Print the order statistics using the following format:\n",
    "   ```\n",
    "   Order Statistics:\n",
    "   Total Products Ordered: <total_products_ordered>\n",
    "   Percentage of Products Ordered: <percentage_ordered>% \n",
    "   ```\n",
    "\n",
    "9. Update the inventory by subtracting 1 from the quantity of each product. Modify the `inventory` dictionary accordingly.\n",
    "\n",
    "10. Print the updated inventory, displaying the quantity of each product on separate lines.\n",
    "\n",
    "Solve the exercise by implementing the steps using the Python concepts of lists, dictionaries, sets, and basic input/output operations. "
   ]
  },
  {
   "cell_type": "code",
   "execution_count": 12,
   "metadata": {},
   "outputs": [
    {
     "name": "stdin",
     "output_type": "stream",
     "text": [
      "Number of t-shirts in the inventory: 10\n",
      "Number of mugs in the inventory: 15\n",
      "Number of hats in the inventory: 20\n",
      "Number of books in the inventory: 16\n",
      "Number of keychains in the inventory: 45\n"
     ]
    },
    {
     "name": "stdout",
     "output_type": "stream",
     "text": [
      "{'t-shirt': 10, 'mug': 15, 'hat': 20, 'book': 16, 'keychain': 45}\n"
     ]
    },
    {
     "name": "stdin",
     "output_type": "stream",
     "text": [
      "Enter the name of the product you want to order(t-shirt, mug, hat, book, keychain): mug\n",
      "Enter the name of the product you want to order(t-shirt, mug, hat, book, keychain): hat\n",
      "Enter the name of the product you want to order(t-shirt, mug, hat, book, keychain): book\n"
     ]
    },
    {
     "name": "stdout",
     "output_type": "stream",
     "text": [
      "{'book', 'hat', 'mug'}\n"
     ]
    },
    {
     "ename": "TypeError",
     "evalue": "object of type 'int' has no len()",
     "output_type": "error",
     "traceback": [
      "\u001b[1;31m---------------------------------------------------------------------------\u001b[0m",
      "\u001b[1;31mTypeError\u001b[0m                                 Traceback (most recent call last)",
      "Cell \u001b[1;32mIn[12], line 36\u001b[0m\n\u001b[0;32m     34\u001b[0m \u001b[38;5;66;03m#7 \u001b[39;00m\n\u001b[0;32m     35\u001b[0m ordered_products \u001b[38;5;241m=\u001b[39m \u001b[38;5;28mlen\u001b[39m(customer_orders)\n\u001b[1;32m---> 36\u001b[0m percentage \u001b[38;5;241m=\u001b[39m ordered_products \u001b[38;5;241m/\u001b[39m \u001b[38;5;28mlen\u001b[39m(ordered_products) \u001b[38;5;241m*\u001b[39m \u001b[38;5;241m100\u001b[39m\n\u001b[0;32m     38\u001b[0m order_status \u001b[38;5;241m=\u001b[39m (ordered_products, percentage)\n\u001b[0;32m     40\u001b[0m \u001b[38;5;66;03m#8\u001b[39;00m\n",
      "\u001b[1;31mTypeError\u001b[0m: object of type 'int' has no len()"
     ]
    }
   ],
   "source": [
    "#1\n",
    "products = [\"t-shirt\", \"mug\", \"hat\", \"book\", \"keychain\"]\n",
    "\n",
    "#2\n",
    "inventory = {}\n",
    "\n",
    "#3\n",
    "\n",
    "inventory[\"t-shirt\"] = int(input(\"Number of t-shirts in the inventory:\"))\n",
    "inventory[\"mug\"] = int(input(\"Number of mugs in the inventory:\"))\n",
    "inventory[\"hat\"] = int(input(\"Number of hats in the inventory:\"))\n",
    "inventory[\"book\"] = int(input(\"Number of books in the inventory:\"))\n",
    "inventory[\"keychain\"] = int(input(\"Number of keychains in the inventory:\"))\n",
    "\n",
    "print(inventory)\n",
    "\n",
    "#4\n",
    "\n",
    "customer_orders = set()\n",
    "\n",
    "#5\n",
    "\n",
    "first_product = input(\"Enter the name of the product you want to order(t-shirt, mug, hat, book, keychain):\")\n",
    "second_product = input(\"Enter the name of the product you want to order(t-shirt, mug, hat, book, keychain):\")\n",
    "third_product = input(\"Enter the name of the product you want to order(t-shirt, mug, hat, book, keychain):\")\n",
    "\n",
    "customer_orders.add(first_product)\n",
    "customer_orders.add(second_product)\n",
    "customer_orders.add(third_product)\n",
    "\n",
    "#6\n",
    "print(customer_orders)\n",
    "\n",
    "#7 \n",
    "ordered_products = len(customer_orders)\n",
    "percentage = (ordered_products / len(ordered_products)) * 100\n",
    "\n",
    "order_status = (ordered_products, percentage)\n",
    "\n",
    "#8\n",
    "print(\"Order Statistics:\")\n",
    "print(f\"Total Products Ordered: {order_status[0]}\")\n",
    "print(f\"Percentage of Products Ordered: {order_status[1]}%\") \n",
    "\n",
    "#9\n",
    "\n",
    "inventory[\"t-shirt\"] -= 1\n",
    "inventory[\"mug\"] -= 1\n",
    "inventory[\"hat\"] -= 1\n",
    "inventory[\"book\"] -= 1\n",
    "inventory[\"keychain\"] -= 1\n",
    "\n",
    "#10\n",
    "\n",
    "print(\"Updated inventory: \")\n",
    "print(f\"T-shirt: {inventory[\"t-shirt\"]}\")\n",
    "print(f\"Mug: {inventory[\"mug\"]}\")\n",
    "print(f\"Hat: {inventory[\"hat\"]}\")\n",
    "print(f\"Book: {inventory[\"book\"]}\")\n",
    "print(f\"Keychain: {inventory[\"keychain\"]}\")"
   ]
  }
 ],
 "metadata": {
  "kernelspec": {
   "display_name": "Python 3 (ipykernel)",
   "language": "python",
   "name": "python3"
  },
  "language_info": {
   "codemirror_mode": {
    "name": "ipython",
    "version": 3
   },
   "file_extension": ".py",
   "mimetype": "text/x-python",
   "name": "python",
   "nbconvert_exporter": "python",
   "pygments_lexer": "ipython3",
   "version": "3.12.4"
  }
 },
 "nbformat": 4,
 "nbformat_minor": 4
}
